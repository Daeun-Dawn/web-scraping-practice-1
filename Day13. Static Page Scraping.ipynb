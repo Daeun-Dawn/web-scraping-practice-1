{
 "cells": [
  {
   "cell_type": "code",
   "execution_count": 1,
   "metadata": {},
   "outputs": [],
   "source": [
    "import requests\n",
    "from bs4 import BeautifulSoup"
   ]
  },
  {
   "cell_type": "code",
   "execution_count": 3,
   "metadata": {},
   "outputs": [
    {
     "data": {
      "text/plain": [
       "<Response [200]>"
      ]
     },
     "execution_count": 3,
     "metadata": {},
     "output_type": "execute_result"
    }
   ],
   "source": [
    "# requests 연습\n",
    "\n",
    "requests.get(\"https://www.google.com/\")"
   ]
  },
  {
   "cell_type": "code",
   "execution_count": 6,
   "metadata": {},
   "outputs": [],
   "source": [
    "# requests.get() 사용하기\n",
    "url = \"https://www.google.com/\"\n",
    "response = requests.get(url)"
   ]
  },
  {
   "cell_type": "code",
   "execution_count": 7,
   "metadata": {},
   "outputs": [
    {
     "data": {
      "text/plain": [
       "<Response [200]>"
      ]
     },
     "execution_count": 7,
     "metadata": {},
     "output_type": "execute_result"
    }
   ],
   "source": [
    "# response status 확인 200:OK\n",
    "response"
   ]
  },
  {
   "cell_type": "code",
   "execution_count": 9,
   "metadata": {},
   "outputs": [
    {
     "data": {
      "text/plain": [
       "'<!doctype html><html'"
      ]
     },
     "execution_count": 9,
     "metadata": {},
     "output_type": "execute_result"
    }
   ],
   "source": [
    "# reponse text 반환\n",
    "response.text[:20]"
   ]
  },
  {
   "cell_type": "code",
   "execution_count": 10,
   "metadata": {},
   "outputs": [
    {
     "data": {
      "text/plain": [
       "'ISO-8859-1'"
      ]
     },
     "execution_count": 10,
     "metadata": {},
     "output_type": "execute_result"
    }
   ],
   "source": [
    "# response charset 확인\n",
    "response.encoding"
   ]
  },
  {
   "cell_type": "code",
   "execution_count": 13,
   "metadata": {},
   "outputs": [
    {
     "data": {
      "text/plain": [
       "{'Date': 'Wed, 12 Dec 2018 11:55:01 GMT', 'Expires': '-1', 'Cache-Control': 'private, max-age=0', 'Content-Type': 'text/html; charset=ISO-8859-1', 'P3P': 'CP=\"This is not a P3P policy! See g.co/p3phelp for more info.\"', 'Content-Encoding': 'gzip', 'Server': 'gws', 'X-XSS-Protection': '1; mode=block', 'X-Frame-Options': 'SAMEORIGIN', 'Set-Cookie': '1P_JAR=2018-12-12-11; expires=Fri, 11-Jan-2019 11:55:01 GMT; path=/; domain=.google.com, NID=150=Do49L4v3YE0YDA9jq4TSvTE66rEllz66VwGcKNV1r8DCnUYMQgc1T0t-9T8lZNyxRuX2Q2i-Z62EaBrj7uqoy35P2vyJFB2yEGLtQwnZ7nwM2VmkdTFZPUm9to60TPxkY-T8eWnnyFn6QjoE_nmN8YvMYs1KpjSoj6s2zNtxuyQ; expires=Thu, 13-Jun-2019 11:55:01 GMT; path=/; domain=.google.com; HttpOnly', 'Alt-Svc': 'quic=\":443\"; ma=2592000; v=\"44,43,39,35\"', 'Transfer-Encoding': 'chunked'}"
      ]
     },
     "execution_count": 13,
     "metadata": {},
     "output_type": "execute_result"
    }
   ],
   "source": [
    "# response header 확인\n",
    "response.headers"
   ]
  },
  {
   "cell_type": "markdown",
   "metadata": {},
   "source": [
    "## Most read news scrape"
   ]
  },
  {
   "cell_type": "markdown",
   "metadata": {},
   "source": [
    "#### Get response from news site"
   ]
  },
  {
   "cell_type": "code",
   "execution_count": 14,
   "metadata": {},
   "outputs": [],
   "source": [
    "url = \"https://www.theguardian.com/uk/technology\"\n",
    "response = requests.get(url)"
   ]
  },
  {
   "cell_type": "code",
   "execution_count": 18,
   "metadata": {},
   "outputs": [
    {
     "data": {
      "text/plain": [
       "'\\n<!DOCTYPE html>\\n<html id=\"js-context\" class=\"js-off is-not-modern id--signed-out\" lang=\"en\" data-pa'"
      ]
     },
     "execution_count": 18,
     "metadata": {},
     "output_type": "execute_result"
    }
   ],
   "source": [
    "response.text[:100]"
   ]
  },
  {
   "cell_type": "code",
   "execution_count": 19,
   "metadata": {},
   "outputs": [],
   "source": [
    "html = response.text"
   ]
  },
  {
   "cell_type": "markdown",
   "metadata": {},
   "source": [
    "#### BeautifulSoup start (response text parsing)"
   ]
  },
  {
   "cell_type": "code",
   "execution_count": 20,
   "metadata": {},
   "outputs": [],
   "source": [
    "soup = BeautifulSoup(html, 'html.parser') # 'html.parser', 'lxml'"
   ]
  },
  {
   "cell_type": "code",
   "execution_count": 23,
   "metadata": {},
   "outputs": [],
   "source": [
    "# find(), find_all() <ul class=\"headline-list\">\n",
    "ul = soup.find('ul', attrs={'class':'headline-list'})"
   ]
  },
  {
   "cell_type": "code",
   "execution_count": 35,
   "metadata": {
    "scrolled": false
   },
   "outputs": [
    {
     "name": "stdout",
     "output_type": "stream",
     "text": [
      "10\n"
     ]
    },
    {
     "data": {
      "text/plain": [
       "<li class=\"headline-list__item headline-column__item headline-column--tablet__item headline-column--desktop__item tone-feature--most-popular fc-item--pillar-news\">\n",
       "<div class=\"headline-list__link\" data-link-name=\"10 | text\">\n",
       "<span class=\"most-popular__number-10\"> <span class=\"inline-number-10 inline-numbers \">\n",
       "<svg class=\"inline-number-10__svg inline-numbers__svg\" height=\"40\" width=\"54\">\n",
       "<path d=\"M0 40h21v-1l-5.4-1.6V0h-4.3L.1 5.4v1.3l5.5-1.4v32.1L0 39.1zm37 0c-9.2 0-17-6.8-17-19.8C20 6.6 28.1 0 37.3 0 46.4 0 54 6.5 54 19.9 54 33.3 46.3 40 37 40zm.1-1c4 0 5.2-6.1 5.2-18.7C42.3 7 41 1.1 37.1 1.1c-4 0-5.4 6-5.4 18.7 0 13 1.4 19.1 5.4 19.1z\" fill-rule=\"evenodd\"></path>\n",
       "</svg> </span> </span>\n",
       "<div class=\"headline-list__text\">\n",
       "<h3 class=\"fc-item__title\"><a class=\"fc-item__link\" data-link-name=\"article\" href=\"https://www.theguardian.com/technology/2016/apr/27/a-brief-guide-to-everything-thats-annoying-about-apple\"> <span class=\"headline-list__body fc-item__headline\"> <span class=\"js-headline-text\">A brief guide to everything that’s annoying about Apple</span></span> </a></h3>\n",
       "</div>\n",
       "</div> </li>"
      ]
     },
     "execution_count": 35,
     "metadata": {},
     "output_type": "execute_result"
    }
   ],
   "source": [
    "lis = ul.find_all('li')\n",
    "print(len(lis))\n",
    "lis[9]"
   ]
  },
  {
   "cell_type": "code",
   "execution_count": 42,
   "metadata": {},
   "outputs": [
    {
     "data": {
      "text/plain": [
       "'Apple 12.9in iPad Pro review: bringing back the wow factor'"
      ]
     },
     "execution_count": 42,
     "metadata": {},
     "output_type": "execute_result"
    }
   ],
   "source": [
    "news_title = lis[0].find('a').text.strip()"
   ]
  },
  {
   "cell_type": "code",
   "execution_count": 45,
   "metadata": {},
   "outputs": [
    {
     "data": {
      "text/plain": [
       "{'href': 'https://www.theguardian.com/technology/2018/dec/12/apple-129in-ipad-pro-review-bringing-back-the-wow-factor',\n",
       " 'class': ['fc-item__link'],\n",
       " 'data-link-name': 'article'}"
      ]
     },
     "execution_count": 45,
     "metadata": {},
     "output_type": "execute_result"
    }
   ],
   "source": [
    "lis[0].find('a').attrs"
   ]
  },
  {
   "cell_type": "code",
   "execution_count": 46,
   "metadata": {},
   "outputs": [
    {
     "data": {
      "text/plain": [
       "'https://www.theguardian.com/technology/2018/dec/12/apple-129in-ipad-pro-review-bringing-back-the-wow-factor'"
      ]
     },
     "execution_count": 46,
     "metadata": {},
     "output_type": "execute_result"
    }
   ],
   "source": [
    "news_link = lis[0].find('a').attrs['href']"
   ]
  },
  {
   "cell_type": "code",
   "execution_count": 48,
   "metadata": {},
   "outputs": [
    {
     "name": "stdout",
     "output_type": "stream",
     "text": [
      "Apple 12.9in iPad Pro review: bringing back the wow factor https://www.theguardian.com/technology/2018/dec/12/apple-129in-ipad-pro-review-bringing-back-the-wow-factor\n",
      "Broadband too slow in more than a quarter of UK homes – report https://www.theguardian.com/technology/2018/dec/12/broadband-too-slow-in-more-than-a-quarter-of-uk-homes-report\n",
      "Meng Wanzhou: Canadian court frees Huawei CFO on bail https://www.theguardian.com/technology/2018/dec/12/meng-wanzhou-canada-frees-huawei-cfo-on-bail\n",
      "Revealed: Google's 'two-tier' workforce training document https://www.theguardian.com/technology/2018/dec/11/google-tvc-full-time-employees-training-document\n",
      "Why Facebook's new rule about sex is its weirdest yet https://www.theguardian.com/technology/commentisfree/2018/dec/11/why-facebooks-new-rule-about-sex-is-its-weirdest-yet\n",
      "Google CEO Sundar Pichai refuses to rule out censored Chinese search engine https://www.theguardian.com/technology/2018/dec/11/google-ceo-sundar-pichai-congress\n",
      "Encryption laws will allow targeting of those suspected of minor crimes, experts warn https://www.theguardian.com/technology/2018/dec/12/encryption-laws-will-allow-targeting-of-those-suspected-of-minor-crimes-experts-warn\n",
      "The 20 best gadgets of 2018 https://www.theguardian.com/technology/2018/dec/09/the-20-best-gadgets-of-2018\n",
      "Google+ to shut down early after privacy flaw affects over 50m users https://www.theguardian.com/technology/2018/dec/10/google-to-shut-down-early-after-privacy-flaw-affects-over-50m-users\n",
      "A brief guide to everything that’s annoying about Apple https://www.theguardian.com/technology/2016/apr/27/a-brief-guide-to-everything-thats-annoying-about-apple\n"
     ]
    },
    {
     "data": {
      "text/plain": [
       "[('Apple 12.9in iPad Pro review: bringing back the wow factor',\n",
       "  'https://www.theguardian.com/technology/2018/dec/12/apple-129in-ipad-pro-review-bringing-back-the-wow-factor'),\n",
       " ('Broadband too slow in more than a quarter of UK homes – report',\n",
       "  'https://www.theguardian.com/technology/2018/dec/12/broadband-too-slow-in-more-than-a-quarter-of-uk-homes-report'),\n",
       " ('Meng Wanzhou: Canadian court frees Huawei CFO on bail',\n",
       "  'https://www.theguardian.com/technology/2018/dec/12/meng-wanzhou-canada-frees-huawei-cfo-on-bail'),\n",
       " (\"Revealed: Google's 'two-tier' workforce training document\",\n",
       "  'https://www.theguardian.com/technology/2018/dec/11/google-tvc-full-time-employees-training-document'),\n",
       " (\"Why Facebook's new rule about sex is its weirdest yet\",\n",
       "  'https://www.theguardian.com/technology/commentisfree/2018/dec/11/why-facebooks-new-rule-about-sex-is-its-weirdest-yet'),\n",
       " ('Google CEO Sundar Pichai refuses to rule out censored Chinese search engine',\n",
       "  'https://www.theguardian.com/technology/2018/dec/11/google-ceo-sundar-pichai-congress'),\n",
       " ('Encryption laws will allow targeting of those suspected of minor crimes, experts warn',\n",
       "  'https://www.theguardian.com/technology/2018/dec/12/encryption-laws-will-allow-targeting-of-those-suspected-of-minor-crimes-experts-warn'),\n",
       " ('The 20 best gadgets of 2018',\n",
       "  'https://www.theguardian.com/technology/2018/dec/09/the-20-best-gadgets-of-2018'),\n",
       " ('Google+ to shut down early after privacy flaw affects over 50m users',\n",
       "  'https://www.theguardian.com/technology/2018/dec/10/google-to-shut-down-early-after-privacy-flaw-affects-over-50m-users'),\n",
       " ('A brief guide to everything that’s annoying about Apple',\n",
       "  'https://www.theguardian.com/technology/2016/apr/27/a-brief-guide-to-everything-thats-annoying-about-apple')]"
      ]
     },
     "execution_count": 48,
     "metadata": {},
     "output_type": "execute_result"
    }
   ],
   "source": [
    "results = []\n",
    "for li in lis:\n",
    "    news_title = li.find('a').text.strip()\n",
    "    news_link = li.find('a').attrs['href']\n",
    "    print(news_title, news_link)\n",
    "    results.append((news_title, news_link))\n",
    "results"
   ]
  },
  {
   "cell_type": "markdown",
   "metadata": {},
   "source": [
    "## 숙제\n",
    "https://www.rottentomatoes.com/ 의 TOP BOX OFFICE Section에서 점수와 영화제목, 매출, 링크를 result라는 이름의 list에 저장하여 출력하세요"
   ]
  },
  {
   "cell_type": "code",
   "execution_count": 49,
   "metadata": {},
   "outputs": [
    {
     "data": {
      "text/plain": [
       "'/m/ralph_breaks_the_internet'"
      ]
     },
     "execution_count": 49,
     "metadata": {},
     "output_type": "execute_result"
    }
   ],
   "source": [
    "\"/m/ralph_breaks_the_internet\""
   ]
  }
 ],
 "metadata": {
  "kernelspec": {
   "display_name": "Python 3",
   "language": "python",
   "name": "python3"
  },
  "language_info": {
   "codemirror_mode": {
    "name": "ipython",
    "version": 3
   },
   "file_extension": ".py",
   "mimetype": "text/x-python",
   "name": "python",
   "nbconvert_exporter": "python",
   "pygments_lexer": "ipython3",
   "version": "3.6.4"
  }
 },
 "nbformat": 4,
 "nbformat_minor": 2
}
