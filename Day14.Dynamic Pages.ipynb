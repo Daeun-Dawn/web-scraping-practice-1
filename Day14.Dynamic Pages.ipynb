{
 "cells": [
  {
   "cell_type": "code",
   "execution_count": 1,
   "metadata": {},
   "outputs": [],
   "source": [
    "import requests\n",
    "from bs4 import BeautifulSoup\n",
    "import lxml"
   ]
  },
  {
   "cell_type": "code",
   "execution_count": 2,
   "metadata": {},
   "outputs": [
    {
     "data": {
      "text/plain": [
       "<Response [200]>"
      ]
     },
     "execution_count": 2,
     "metadata": {},
     "output_type": "execute_result"
    }
   ],
   "source": [
    "## Homework REVIEW\n",
    "# Set url\n",
    "url = \"https://www.rottentomatoes.com\"\n",
    "\n",
    "response = requests.get(url)\n",
    "response"
   ]
  },
  {
   "cell_type": "code",
   "execution_count": 4,
   "metadata": {},
   "outputs": [],
   "source": [
    "# assign html with response text\n",
    "html = response.text"
   ]
  },
  {
   "cell_type": "code",
   "execution_count": 5,
   "metadata": {},
   "outputs": [],
   "source": [
    "# parse start\n",
    "soup = BeautifulSoup(html, \"lxml\") # html.parser or lxml"
   ]
  },
  {
   "cell_type": "code",
   "execution_count": 9,
   "metadata": {},
   "outputs": [],
   "source": [
    "table = soup.find('table', attrs={'id':'Top-Box-Office'})\n",
    "all_tr = table.find_all('tr')"
   ]
  },
  {
   "cell_type": "code",
   "execution_count": 10,
   "metadata": {},
   "outputs": [
    {
     "data": {
      "text/plain": [
       "<tr class=\"sidebarInTheaterOpening\">\n",
       "<td class=\"left_col\">\n",
       "<a href=\"/m/ralph_breaks_the_internet\">\n",
       "<span class=\"icon tiny certified_fresh\"></span>\n",
       "<span class=\"tMeterScore\">88%</span>\n",
       "</a>\n",
       "</td>\n",
       "<td class=\"middle_col\">\n",
       "<a href=\"/m/ralph_breaks_the_internet\">Ralph Breaks the Internet</a>\n",
       "</td>\n",
       "<td class=\"right_col right\">\n",
       "<a href=\"/m/ralph_breaks_the_internet\">$16.4M</a>\n",
       "</td>\n",
       "</tr>"
      ]
     },
     "execution_count": 10,
     "metadata": {},
     "output_type": "execute_result"
    }
   ],
   "source": [
    "all_tr[0]"
   ]
  },
  {
   "cell_type": "code",
   "execution_count": 30,
   "metadata": {},
   "outputs": [
    {
     "data": {
      "text/plain": [
       "'https://www.rottentomatoes.com/m/ralph_breaks_the_internet'"
      ]
     },
     "execution_count": 30,
     "metadata": {},
     "output_type": "execute_result"
    }
   ],
   "source": [
    "score = int(all_tr[0].find('span', attrs={'class':'tMeterScore'})\\\n",
    "    .text.strip('%'))\n",
    "title = all_tr[0].find('td', attrs={'class':'middle_col'})\\\n",
    "    .text.strip('\\n')\n",
    "revenue = float(all_tr[0].find('td', attrs={'class':'right_col'})\\\n",
    "    .a.text.strip('$M'))\n",
    "link = url + all_tr[0].find('a')['href']"
   ]
  },
  {
   "cell_type": "code",
   "execution_count": 34,
   "metadata": {},
   "outputs": [
    {
     "data": {
      "text/plain": [
       "{1: {'score': 88,\n",
       "  'title': 'Ralph Breaks the Internet',\n",
       "  'revenue': 16.4,\n",
       "  'link': 'https://www.rottentomatoes.com/m/ralph_breaks_the_internet'},\n",
       " 2: {'score': 57,\n",
       "  'title': 'The Grinch',\n",
       "  'revenue': 15.1,\n",
       "  'link': 'https://www.rottentomatoes.com/m/the_grinch'},\n",
       " 3: {'score': 83,\n",
       "  'title': 'Creed II',\n",
       "  'revenue': 10.1,\n",
       "  'link': 'https://www.rottentomatoes.com/m/creed_ii'},\n",
       " 4: {'score': 38,\n",
       "  'title': 'Fantastic Beasts: The Crimes of Grindelwald',\n",
       "  'revenue': 7.0,\n",
       "  'link': 'https://www.rottentomatoes.com/m/fantastic_beasts_the_crimes_of_grindelwald'},\n",
       " 5: {'score': 62,\n",
       "  'title': 'Bohemian Rhapsody',\n",
       "  'revenue': 6.2,\n",
       "  'link': 'https://www.rottentomatoes.com/m/bohemian_rhapsody'},\n",
       " 6: {'score': 81,\n",
       "  'title': 'Instant Family',\n",
       "  'revenue': 5.8,\n",
       "  'link': 'https://www.rottentomatoes.com/m/instant_family'},\n",
       " 7: {'score': 82,\n",
       "  'title': 'Green Book',\n",
       "  'revenue': 4.0,\n",
       "  'link': 'https://www.rottentomatoes.com/m/green_book'},\n",
       " 8: {'score': 16,\n",
       "  'title': 'Robin Hood',\n",
       "  'revenue': 3.5,\n",
       "  'link': 'https://www.rottentomatoes.com/m/robin_hood_2018'},\n",
       " 9: {'score': 14,\n",
       "  'title': 'The Possession of Hannah Grace',\n",
       "  'revenue': 3.3,\n",
       "  'link': 'https://www.rottentomatoes.com/m/the_possession_of_hannah_grace'},\n",
       " 10: {'score': 91,\n",
       "  'title': 'Widows',\n",
       "  'revenue': 3.1,\n",
       "  'link': 'https://www.rottentomatoes.com/m/widows_2018'}}"
      ]
     },
     "execution_count": 34,
     "metadata": {},
     "output_type": "execute_result"
    }
   ],
   "source": [
    "box_office_list = []\n",
    "box_office_dict = {} \n",
    "# {'1':{\n",
    "#   'score':88,\n",
    "#   'title':'Ralph Breaks the Internet',\n",
    "#   ..\n",
    "# }}\n",
    "for tr,i in zip(all_tr, range(len(all_tr))):\n",
    "    score = int(tr.find('span', attrs={'class':'tMeterScore'})\\\n",
    "        .text.strip('%'))\n",
    "    title = tr.find('td', attrs={'class':'middle_col'})\\\n",
    "        .text.strip('\\n')\n",
    "    revenue = float(tr.find('td', attrs={'class':'right_col'})\\\n",
    "        .a.text.strip('$M'))\n",
    "    link = url + tr.find('a')['href']\n",
    "    box_office_list.append((\n",
    "        score,\n",
    "        title,\n",
    "        revenue,\n",
    "        link,\n",
    "    ))\n",
    "    box_office_dict[i+1] = dict([\n",
    "        (name, eval(name)) \n",
    "            for name in [\"score\",\"title\",\"revenue\",\"link\"]\n",
    "    ])\n",
    "box_office_dict"
   ]
  },
  {
   "cell_type": "code",
   "execution_count": 33,
   "metadata": {},
   "outputs": [
    {
     "data": {
      "text/plain": [
       "{'href': '/m/ralph_breaks_the_internet'}"
      ]
     },
     "execution_count": 33,
     "metadata": {},
     "output_type": "execute_result"
    }
   ],
   "source": [
    "all_tr[0].find('a').attrs"
   ]
  },
  {
   "cell_type": "code",
   "execution_count": 36,
   "metadata": {},
   "outputs": [
    {
     "data": {
      "text/plain": [
       "[('a', 1), ('b', 2), ('c', 3)]"
      ]
     },
     "execution_count": 36,
     "metadata": {},
     "output_type": "execute_result"
    }
   ],
   "source": [
    "alpha = ['a','b','c']\n",
    "nums = [1,2,3]\n",
    "list(zip(alpha, nums))"
   ]
  },
  {
   "cell_type": "markdown",
   "metadata": {},
   "source": [
    "## Stackoverflow - python search result\n",
    "- https://stackoverflow.com/questions/tagged/python 에 접근하여\n",
    "- 1페이지의 질문 블록에서\n",
    "- 질문제목, 링크, 요약 텍스트를 추출하기\n",
    "- advanced: 질문의 vote, tag 까지"
   ]
  },
  {
   "cell_type": "code",
   "execution_count": 41,
   "metadata": {},
   "outputs": [
    {
     "data": {
      "text/plain": [
       "'<!DOCTYPE html>\\r\\n\\r\\n\\r\\n    <html itemscope itemtype=\"http://schema.org/QAPage\" class=\"html__responsive\">\\r\\n\\r\\n    <head>\\r\\n\\r\\n        <title>Newest &#39;python&#39; Questions - Stack Overflow</title>\\r\\n     '"
      ]
     },
     "execution_count": 41,
     "metadata": {},
     "output_type": "execute_result"
    }
   ],
   "source": [
    "domain = \"https://stackoverflow.com\"\n",
    "term = \"python\"\n",
    "url = domain + \"/questions/tagged/\" + term\n",
    "html = requests.get(url).text\n",
    "html[:200]"
   ]
  },
  {
   "cell_type": "code",
   "execution_count": 45,
   "metadata": {},
   "outputs": [
    {
     "data": {
      "text/plain": [
       "50"
      ]
     },
     "execution_count": 45,
     "metadata": {},
     "output_type": "execute_result"
    }
   ],
   "source": [
    "soup = BeautifulSoup(html, 'lxml')\n",
    "question_section = soup.find('div', attrs={'id':'questions'})\n",
    "questions = question_section.find_all('div', attrs={'class':'summary'})\n",
    "len(questions)"
   ]
  },
  {
   "cell_type": "code",
   "execution_count": 56,
   "metadata": {},
   "outputs": [
    {
     "name": "stdout",
     "output_type": "stream",
     "text": [
      "ValueError: While plotting feature importance using matplotlib\n",
      "https://stackoverflow.com/questions/53790180/valueerror-while-plotting-feature-importance-using-matplotlib\n",
      "I have an array \n",
      "\n",
      "logreg.coef_\r\n",
      "  array([[ -2.08115860e-01,   3.05150136e-03,   1.43758267e-05]])\r\n",
      "While trying to plot it, I am getting value error:\n",
      "\n",
      "pyplot.bar(range(len(logreg.coef_)), logreg.coef_)...\n",
      "How to get the coordinates of the bottom right corner of the picture？\n",
      "https://stackoverflow.com/questions/53790168/how-to-get-the-coordinates-of-the-bottom-right-corner-of-the-picture\n",
      "[this is a question？use opencv？][1]\n",
      "\n",
      "[1]: https://i.stack.imgur.com/C9Fin.pngstrong text\n",
      "ImportError: cannot import name libsvm on importing svm\n",
      "https://stackoverflow.com/questions/53790154/importerror-cannot-import-name-libsvm-on-importing-svm\n",
      "I am facing an error when I am trying to import svm: from sklearn import svm\n",
      "\n",
      "ImportError: cannot import name libsvm\n",
      "\n",
      "I have tried uninstalling and reinstalling sklearn, but the error still persists. ...\n",
      "input variable inside of a function output outside of function\n",
      "https://stackoverflow.com/questions/53790140/input-variable-inside-of-a-function-output-outside-of-function\n",
      "I'm pretty new to coding and I'm making an adventure \"game\" to help me learn. The player has a bit of dialogue to get through and a decision to make, which leads to different choices, two of which ask ...\n",
      "Have trouble running Python code after convert .ui file to .py file [duplicate]\n",
      "https://stackoverflow.com/questions/53790131/have-trouble-running-python-code-after-convert-ui-file-to-py-file\n",
      "I recently converted a .ui file to .py file. However, when I try to run it, the program doesn't show correct GUI to me. It just opened up a window with nothing. \n",
      "\n",
      "I converted the file by using command ...\n",
      "classifying data by tensorflow but accuracy value didn't change\n",
      "https://stackoverflow.com/questions/53790116/classifying-data-by-tensorflow-but-accuracy-value-didnt-change\n",
      "weight, bias are changed when I check it before start and after finish.\n",
      "loss value is keep decreasing\n",
      "\n",
      "the problem is accuracy value didn't move ever\n",
      "\n",
      "here is my code with some cut of it\n",
      "\n",
      "there is ...\n",
      "Pygame mouse click detection on moving sprites\n",
      "https://stackoverflow.com/questions/53790098/pygame-mouse-click-detection-on-moving-sprites\n",
      "I'm making a \"duck hunt\" game in pygame. I have everything working, my sprites move and respawn when needed, cursor is a crosshair with sound when clicked etc. The issue I'm having is trying to add ...\n",
      "Trouble implementing a class-based non-binary id3 decision solution\n",
      "https://stackoverflow.com/questions/53790092/trouble-implementing-a-class-based-non-binary-id3-decision-solution\n",
      "EDIT: I've added my own methods for entropy/inf gain/best split at the bottom in case anybody wants to help me debug so they don't have to write their own!\n",
      "\n",
      "As a challenge, after watching this video I ...\n",
      "How to override attributes in subclass, but maintain methods of super class in python2.7?\n",
      "https://stackoverflow.com/questions/53790075/how-to-override-attributes-in-subclass-but-maintain-methods-of-super-class-in-p\n",
      "I want to inherit an attribute in my subclass, but I want to call a method from the super class.  \n",
      "\n",
      "In order to inherit the attribute from the parent, however, I need to call super on it.  But when I ...\n",
      "Is there any way to optimise this code that uses pandas to read a TSV file, do transformations and write to a table using spark?\n",
      "https://stackoverflow.com/questions/53790019/is-there-any-way-to-optimise-this-code-that-uses-pandas-to-read-a-tsv-file-do-t\n",
      "df_pandas = pd.read_csv('filepath/filename' , delimiter='\\t' , encoding = 'utf-8', error_bad_lines=False )\n",
      "\n",
      "    #defining the schema for the spark dataframe\n",
      "    df_schema_file = StructType([...\n",
      "ValueError: Ran into a $end where it wasn't expected - RPLY Parsing\n",
      "https://stackoverflow.com/questions/53790007/valueerror-ran-into-a-end-where-it-wasnt-expected-rply-parsing\n",
      "I'm trying to create a parser for a basic interpreted language. \n",
      "\n",
      "When I run my program I get the following error: \n",
      "\n",
      "ValueError: Ran into a $end where it wasn't expected\n",
      "\n",
      "Here is my main.py:\n",
      "\n",
      "from ...\n",
      "Build 3D Model from value inputted by GUI with Tkinter\n",
      "https://stackoverflow.com/questions/53789956/build-3d-model-from-value-inputted-by-gui-with-tkinter\n",
      "I built GUI windows to receive the value used for calculating and building a 3D surface.\n",
      "\n",
      "I use Tkinter to create GUI windows. How can I show 3D surfaces in this windows?\n",
      "In Python if i have a list made up of string and int values, is it possible to get a count on the amount of values in my list?\n",
      "https://stackoverflow.com/questions/53789923/in-python-if-i-have-a-list-made-up-of-string-and-int-values-is-it-possible-to-g\n",
      "I have tried using the len(list) function but it throws me this error:\n",
      "TypeError: can only concatenate str (not \"int\") to str.\n",
      "\n",
      "I realise this is because there is int and string values, but I am ...\n",
      "sqlite3_config() equivalent in Python\n",
      "https://stackoverflow.com/questions/53789915/sqlite3-config-equivalent-in-python\n",
      "I am facing a weird issue whereconnection.commit() is taking whooping 15 seconds to finish.\n",
      "I need to enable debugging messages of Sqlite3 in Python to find out what is causing this long running ...\n",
      "PDB Python Debugging - restart from specific function without re-running entire module\n",
      "https://stackoverflow.com/questions/53789883/pdb-python-debugging-restart-from-specific-function-without-re-running-entire\n",
      "I have a 10M row dataset and a 20k row dataset to which I use two pandas apply functions. Even on a subset (1k rows) the first apply function takes a few minutes to run. I want to debug the second ...\n",
      "Updating Particles In Python3 Using Pyglet\n",
      "https://stackoverflow.com/questions/53789868/updating-particles-in-python3-using-pyglet\n",
      "I am having a little troubles updating particle positions in my python 3D Game project. I have created a particle class with an update function but when I run the update function the particles' ...\n",
      "No Inbound Nodes - Keras CNN Model\n",
      "https://stackoverflow.com/questions/53789858/no-inbound-nodes-keras-cnn-model\n",
      "I had trained a CNN model in keras with the following structure\n",
      "\n",
      "model_11 = Sequential()\n",
      "\n",
      "#Convolutional Layers\n",
      "model_11.add(Reshape((55, 1)))\n",
      "model_11.add(Conv1D(50, kernel_size=5, strides=1, padding=...\n",
      "After print a global variable, append it to a global list in the for loop. Why the value in each for loop and in the list are not same?\n",
      "https://stackoverflow.com/questions/53789848/after-print-a-global-variable-append-it-to-a-global-list-in-the-for-loop-why-t\n",
      "transactions_clean = \\\n",
      "['Edith Mcbride', '$1.21', 'white', '09/15/17', 'Herbert Tran', \n",
      "'$7.29', 'white&blue', \n",
      "'09/15/17', 'Paul Clarke', '$12.52', 'white&blue', '09/15/17', 'Lucille \n",
      "...\n",
      "QFileDialog sort by date actually uses alphabetical order of date\n",
      "https://stackoverflow.com/questions/53789779/qfiledialog-sort-by-date-actually-uses-alphabetical-order-of-date\n",
      "In PyQt 5.11.2 (on Windows 10), QFileDialog with the DontUseNativeDialog option set has a bug when sorting by the 'Date Modified' column: it does not sort by the actual date - it sorts alphabetically ...\n",
      "Python - How to prevent variables from being lost during loop?\n",
      "https://stackoverflow.com/questions/53789778/python-how-to-prevent-variables-from-being-lost-during-loop\n",
      "I'm currently three days in learning Python; Here's a pretty basic program from the book 'Automate the Boring Stuff with Python - Practical Programming for Total Beginners from Al Sweigarts', with ...\n",
      "$.getJSON on works once on HTA file\n",
      "https://stackoverflow.com/questions/53789763/getjson-on-works-once-on-hta-file\n",
      "been having issues with my .HTA file. Everything works fine until i attempt to make a second request to $.getJSON.\n",
      "\n",
      "###The request only works once, then stops working on additional button \n",
      "clicks. \n",
      "###...\n",
      "What is happening when performing a logical AND between two numpy arrays?\n",
      "https://stackoverflow.com/questions/53789748/what-is-happening-when-performing-a-logical-and-between-two-numpy-arrays\n",
      "Suppose I had the example\n",
      "\n",
      "a = np.arange(6)\r\n",
      "What is happening between the following operation, and how is the output produced?\n",
      "\n",
      "np.where(a > 4) and np.where(a > 2)\n",
      "How to print two vertical lists next to each other\n",
      "https://stackoverflow.com/questions/53789739/how-to-print-two-vertical-lists-next-to-each-other\n",
      "I am trying to code a game of connect 4. If you don't know the rules, look it up, it's a relatively straightforward game. I have made each row into a list. However, it prints each row below the other. ...\n",
      "How to make python replace a specific answer to something\n",
      "https://stackoverflow.com/questions/53789726/how-to-make-python-replace-a-specific-answer-to-something\n",
      "I'm Having some trouble coding python. I'm trying to make python replace an answer if it is \"main()\", but all I see when I run it is\n",
      "\n",
      "File \"G:\\PythonSoftware\\Kaelan'sPythonExperiments\\stuff.py\", line ...\n",
      "Transform pandas DataFrame from wide to long and count occurences of a unique value\n",
      "https://stackoverflow.com/questions/53789715/transform-pandas-dataframe-from-wide-to-long-and-count-occurences-of-a-unique-va\n",
      "Hello dear community i have a pretty specific problem that i sadly can not work my mind around. The DataFrame I want to transform currently looks like this.\n",
      "\n",
      "df_larceny\n",
      "CATEGORY    INCIDENTYEAR    ...\n",
      "I am constantly getting an error from bidirectional rnn\n",
      "https://stackoverflow.com/questions/53789713/i-am-constantly-getting-an-error-from-bidirectional-rnn\n",
      "I am preparing a chatbot based on a udemy course. I am getting this error very constantly. anybody can help me?\n",
      "\n",
      "ValueError: Tensor(\"bidirectional_rnn/fw/fw/Const:0\", shape=(1,), dtype=int32) must be ...\n",
      "Transporting data to create a new data frame to re-structure the data frame\n",
      "https://stackoverflow.com/questions/53789707/transporting-data-to-create-a-new-data-frame-to-re-structure-the-data-frame\n",
      "I have a csv file that contains data along the rows.\n",
      "I want to create a data frame by transporting all rows to columns.I have provided the following sample data frame that replicates the data in csv.\n",
      "\n",
      "...\n",
      "How to format datetime in python [duplicate]\n",
      "https://stackoverflow.com/questions/53789699/how-to-format-datetime-in-python\n",
      "How could I format this output date & time \n",
      "\n",
      "Output = ('2017-07-31T12:35:00')\r\n",
      "To be equal to this\n",
      "\n",
      "Output = ('12:35PM')\r\n",
      "Thanks! The T in the middle is what throws me off..\n",
      "python search dictionary values and print\n",
      "https://stackoverflow.com/questions/53789696/python-search-dictionary-values-and-print\n",
      "dictionary = {'Name':['Sam','Rafael','Albert','Prapul','Zorg','Peter','Sandy','Kristena','Noah','William','Alexander'],\n",
      "              'Number':[9842657266,2548759249,5859715540,9874515875,8974511147,...\n",
      "parallel execution of python function\n",
      "https://stackoverflow.com/questions/53789633/parallel-execution-of-python-function\n",
      "My requirement is after giving control to \"thread_func\", while loop should continue without wait for completion of \"thread_func\".\n",
      "\n",
      "Please suggest me how to approach? \n",
      "\n",
      "def thread_func(mySeries):\n",
      "    ...\n",
      "How to retrive data from FormsDict using python bottle?\n",
      "https://stackoverflow.com/questions/53789612/how-to-retrive-data-from-formsdict-using-python-bottle\n",
      "I'm unable to print result. This works fine on flask if i use, result= request.form and then print(result). This prints a dictionary on flask. But doesn't work using bottle. When i used type(result) ...\n",
      "FTPLIB error socket.gaierror: [Errno 8] nodename nor servname provided, or not known\n",
      "https://stackoverflow.com/questions/53789605/ftplib-error-socket-gaierror-errno-8-nodename-nor-servname-provided-or-not-k\n",
      "I'm trying to download a file from an FTP server using FTPlib but i keep getting the error below. I tried several methods found on SO namely editing the etc/host file and adding the computer name ...\n",
      "TensorFlow Importing Error: DLL load failed with error code -1073741795\n",
      "https://stackoverflow.com/questions/53789599/tensorflow-importing-error-dll-load-failed-with-error-code-1073741795\n",
      "I am using Python 3.6.2 (64 bit). Installed Tensorflow with no issues. But now when I try to import it. I get the following error as shown below. Looked at the suggested link (https://www.tensorflow....\n",
      "Keras, tensorflow importing error in sublime text and spyder but working in command line\n",
      "https://stackoverflow.com/questions/53789589/keras-tensorflow-importing-error-in-sublime-text-and-spyder-but-working-in-comm\n",
      "In command-line, everything seems fine. But when I am importing tensorflow in sublime text or spyder it gives the following error -\n",
      "\n",
      "import tensorflow as tf\r\n",
      "  Traceback (most recent call last):\n",
      "    ...\n",
      "Issues with ROS\n",
      "https://stackoverflow.com/questions/53789575/issues-with-ros\n",
      "My friends and I are building an autonomous plane (UAV) and are interested in using ROS for our software stack. However, I had a few problems with ROS and support, and am wondering if anyone knew any ...\n",
      "Python, why this code works? I want to know the internal logic\n",
      "https://stackoverflow.com/questions/53789562/python-why-this-code-works-i-want-to-know-the-internal-logic\n",
      "8.5 Open the file mbox-short.txt and read it line by line. When you find a line that starts with 'From ' like the following line:\n",
      "From stephen.marquard@uct.ac.za Sat Jan  5 09:14:16 2008\n",
      "You will ...\n",
      "Overflow when approximating activation functions in neural network\n",
      "https://stackoverflow.com/questions/53789548/overflow-when-approximating-activation-functions-in-neural-network\n",
      "I am facing an issue for several days and I haven't found a solution yet. For cryptographic purposes (Homomorphic Encryption to be precise), I need to use polynomial approximations of the activation ...\n",
      "Modifying Python Script to process all files in directory\n",
      "https://stackoverflow.com/questions/53789534/modifying-python-script-to-process-all-files-in-directory\n",
      "I have finalized part 1 of some scripting that produces the output I'd like. Many thanks to the SO community and Google.\n",
      "\n",
      "Here is my code:\n",
      "\n",
      "import pandas as pd\n",
      "files = ('filename_20181006.txt')\n",
      "df = ...\n",
      "Need to quickly update Django model with difference between two other models\n",
      "https://stackoverflow.com/questions/53789518/need-to-quickly-update-django-model-with-difference-between-two-other-models\n",
      "I'm populating my database from an API that provides year-to-date stats, and I'll be pulling from this API multiple times a day. Using the year-to-date stats, I need to generate monthly and weekly ...\n",
      "Getting an errror in my code that deals with classes\n",
      "https://stackoverflow.com/questions/53789511/getting-an-errror-in-my-code-that-deals-with-classes\n",
      "Traceback (most recent call last):\n",
      "  File \"<pyshell#222>\", line 1, in <module>\n",
      "    TextFacebook.viewStatus()\n",
      "  File \"C:\\Users\\tanne\\OneDrive\\Desktop\\Facebook.py\", line 37, in viewStatus\n",
      "   ...\n",
      "Change string variable from function in imported module\n",
      "https://stackoverflow.com/questions/53789503/change-string-variable-from-function-in-imported-module\n",
      "I am making a python Tkinter GUI that will transcribe audio from microphone to text in real time and at the same time, show a warning message on screen if the word \"oh no\" or \"erm\" is spoken and ...\n",
      "Why can't I predict new data using SVM and KNN?\n",
      "https://stackoverflow.com/questions/53789501/why-cant-i-predict-new-data-using-svm-and-knn\n",
      "I'm new to machine learning and I just learned KNN and SVM with sklearn. How do I make a prediction for new data using SVM or KNN? I have tried both to make prediction. They make good prediction only ...\n",
      "What is the error in my code for advent of code day 14 part 2?\n",
      "https://stackoverflow.com/questions/53789498/what-is-the-error-in-my-code-for-advent-of-code-day-14-part-2\n",
      "I am learning how to code in python so I am taking the challenge of doing advent of code, so I have an error in day 14 part 2 where it is saying Memory Error,  I have to find the answer for 846601, to ...\n",
      "Question with python, music and events, is there a more elegant way of programming this?\n",
      "https://stackoverflow.com/questions/53789477/question-with-python-music-and-events-is-there-a-more-elegant-way-of-programmi\n",
      "Goal: To create a program that will be able to turn off and on lights to music based on events that are triggered from midi notes.\n",
      "\n",
      "Hello all, I am hoping that this isn't too broad of a question to ...\n",
      "Why doesn't this collision detection apply to objects previously created?\n",
      "https://stackoverflow.com/questions/53789453/why-doesnt-this-collision-detection-apply-to-objects-previously-created\n",
      "After hours of searching, I still can't figure out why only the most recently spawned circle is affected by the collision detection. I commented out the code in question. I experimented with sprites ...\n",
      "get nested python dict key and values and place in a list\n",
      "https://stackoverflow.com/questions/53789446/get-nested-python-dict-key-and-values-and-place-in-a-list\n",
      "how can I loop this nested python dictionary and build a list for all the values for aggregate, S1, S2, S3, and S4. A couple things to note aggregate will always exist in all these various keys but ...\n",
      "Cant connect to wss withour verifying ssl cert\n",
      "https://stackoverflow.com/questions/53789437/cant-connect-to-wss-withour-verifying-ssl-cert\n",
      "Im trying some weeks now to connect to a websocket that has bad ssl cert and i cant figure out how to connect with tornado.websocket.websocket_connect() without verifying the cert. Any help?\n",
      "i have ...\n",
      "not able to read a saved machine learning model in flask on a remote Ubuntu server\n",
      "https://stackoverflow.com/questions/53789388/not-able-to-read-a-saved-machine-learning-model-in-flask-on-a-remote-ubuntu-serv\n",
      "I have saved a Machine Learning model as 'finalized_model.sav' which I am using on a flask app. When I am running the below lines of code on my local desktop, it is running perfectly but running the ...\n",
      "Map tool path on irregular surface for CNC\n",
      "https://stackoverflow.com/questions/53789351/map-tool-path-on-irregular-surface-for-cnc\n",
      "Google does not seem to have the answer I'm looking for, so I'm hoping to get some help here.\n",
      "\n",
      "This is the problem: I have generated a 3D scan of an irregular surface (point cloud, which can be turned ...\n",
      "How do I update value in DataFrame with mask when iterating through rows\n",
      "https://stackoverflow.com/questions/53789336/how-do-i-update-value-in-dataframe-with-mask-when-iterating-through-rows\n",
      "With the below code I'm trying to update the column df_test['placed'] to = 1 when the if statement is triggered and a prediction is placed. I haven't been able to get this to update correctly though, ...\n"
     ]
    }
   ],
   "source": [
    "for question in questions:\n",
    "    # find title, link\n",
    "    title_link = question.find(\n",
    "        'a', attrs={'class':'question-hyperlink'})\n",
    "    title = title_link.text\n",
    "    link = domain + title_link['href']\n",
    "    # find abstract_text\n",
    "    abstact_text = question.find('div', attrs={'class':'excerpt'})\\\n",
    "        .text.strip(' \\r\\n')\n",
    "    print(title, link, abstact_text, sep='\\n')"
   ]
  },
  {
   "cell_type": "code",
   "execution_count": 50,
   "metadata": {},
   "outputs": [
    {
     "name": "stdout",
     "output_type": "stream",
     "text": [
      "ValueError: While plotting feature importance using matplotlib https://stackoverflow.com/questions/53790180/valueerror-while-plotting-feature-importance-using-matplotlib\n"
     ]
    }
   ],
   "source": [
    "title_link = questions[0].find(\n",
    "    'a', attrs={'class':'question-hyperlink'})\n",
    "title = title_link.text\n",
    "link = domain + title_link['href']\n",
    "print(title, link)\n"
   ]
  },
  {
   "cell_type": "code",
   "execution_count": 54,
   "metadata": {},
   "outputs": [
    {
     "data": {
      "text/plain": [
       "'I have an array \\n\\nlogreg.coef_\\r\\n  array([[ -2.08115860e-01,   3.05150136e-03,   1.43758267e-05]])\\r\\nWhile trying to plot it, I am getting value error:\\n\\npyplot.bar(range(len(logreg.coef_)), logreg.coef_)...'"
      ]
     },
     "execution_count": 54,
     "metadata": {},
     "output_type": "execute_result"
    }
   ],
   "source": [
    "abstact_text = questions[0].find('div', attrs={'class':'excerpt'})\\\n",
    "    .text.strip(' \\r\\n')\n",
    "abstact_text"
   ]
  },
  {
   "cell_type": "markdown",
   "metadata": {},
   "source": [
    "# Selenium"
   ]
  },
  {
   "cell_type": "code",
   "execution_count": 58,
   "metadata": {},
   "outputs": [],
   "source": [
    "import selenium\n",
    "# 다음부터는 무조건 이렇게 하도록 해요\n",
    "from selenium import webdriver"
   ]
  },
  {
   "cell_type": "code",
   "execution_count": 66,
   "metadata": {},
   "outputs": [],
   "source": [
    "#for windows\n",
    "#ch_driver = webdriver.Chrome('C://python37//chromedriver.exe')\n",
    "ch_driver = webdriver.Chrome('/Users/ulgoon/Documents/dev/chromedriver')"
   ]
  },
  {
   "cell_type": "code",
   "execution_count": 61,
   "metadata": {},
   "outputs": [],
   "source": [
    "ch_driver.get('https://www.google.com/')"
   ]
  },
  {
   "cell_type": "code",
   "execution_count": 68,
   "metadata": {},
   "outputs": [],
   "source": [
    "# get naver login page\n",
    "ch_driver.get('https://nid.naver.com/nidlogin.login')"
   ]
  },
  {
   "cell_type": "code",
   "execution_count": 73,
   "metadata": {},
   "outputs": [],
   "source": [
    "# find element to send keys to login id input\n",
    "id_input = ch_driver.find_element_by_id(\"id\")\n",
    "id_input.send_keys(user_id)\n",
    "pw_input = ch_driver.find_element_by_id(\"pw\")\n",
    "pw_input.send_keys(user_pw)"
   ]
  },
  {
   "cell_type": "code",
   "execution_count": 74,
   "metadata": {},
   "outputs": [],
   "source": [
    "login_btn = ch_driver.find_element_by_class_name(\"btn_global\")\n",
    "login_btn.click()"
   ]
  },
  {
   "cell_type": "code",
   "execution_count": 79,
   "metadata": {},
   "outputs": [],
   "source": [
    "pw_input = ch_driver.find_element_by_id(\"pw\")\n",
    "pw_input.send_keys(user_pw)\n",
    "chptcha_area = ch_driver.find_element_by_id(\"chptcha\")\n",
    "chptcha_area.send_keys(\"S95D7\")\n",
    "login_btn = ch_driver.find_element_by_class_name(\"btn_global\")\n",
    "login_btn.click()"
   ]
  },
  {
   "cell_type": "markdown",
   "metadata": {},
   "source": [
    "## 중**라 검색결과 가져오기"
   ]
  },
  {
   "cell_type": "code",
   "execution_count": 80,
   "metadata": {},
   "outputs": [],
   "source": [
    "# get joonggonara\n",
    "ch_driver.get(\"https://cafe.naver.com/joonggonara\")"
   ]
  },
  {
   "cell_type": "code",
   "execution_count": 81,
   "metadata": {},
   "outputs": [],
   "source": [
    "# 검색어 지정하고 searchBoard();로 검색 진행하기\n",
    "query = \"맥북프로\"\n",
    "query_input = ch_driver.find_element_by_id(\"topLayerQueryInput\")\n",
    "query_input.send_keys(query)\n",
    "ch_driver.execute_script(\"searchBoard();\")"
   ]
  },
  {
   "cell_type": "code",
   "execution_count": 82,
   "metadata": {},
   "outputs": [],
   "source": [
    "# 스크립트 예제\n",
    "ch_driver.execute_script(\"console.log('haha');\")"
   ]
  },
  {
   "cell_type": "code",
   "execution_count": 83,
   "metadata": {},
   "outputs": [
    {
     "name": "stderr",
     "output_type": "stream",
     "text": [
      "/Users/ulgoon/.pyenv/versions/3.6.4/envs/dses364/lib/python3.6/site-packages/ipykernel_launcher.py:2: DeprecationWarning: use driver.switch_to.frame instead\n",
      "  \n"
     ]
    }
   ],
   "source": [
    "# 메인프레임에서 검색결과 프레임으로 전환하여 결과게시판 접근하기\n",
    "result_bbs = ch_driver.find_element_by_id(\"cafe_main\")\n",
    "ch_driver.switch_to_frame(result_bbs)"
   ]
  },
  {
   "cell_type": "code",
   "execution_count": 86,
   "metadata": {},
   "outputs": [
    {
     "data": {
      "text/plain": [
       "'https://cafe.naver.com/ArticleRead.nhn?clubid=10050146&page=1&inCafeSearch=true&searchBy=1&query=%B8%C6%BA%CF%C7%C1%B7%CE&includeAll=&exclude=&include=&exact=&searchdate=all&media=0&sortBy=date&articleid=540570757&referrerAllArticles=true'"
      ]
     },
     "execution_count": 86,
     "metadata": {},
     "output_type": "execute_result"
    }
   ],
   "source": [
    "# article이라는 클래스를 가진 요소로 접근하여 성공여부 확인하기\n",
    "title_link = ch_driver.find_elements_by_class_name(\"article\")\n",
    "title_link[0].get_attribute('href')"
   ]
  },
  {
   "cell_type": "code",
   "execution_count": 87,
   "metadata": {},
   "outputs": [
    {
     "name": "stdout",
     "output_type": "stream",
     "text": [
      "2017 13인치 맥북 프로 터치바 MPXW2KH/A 스페이스 그레이 (18년 4월 구입) 판매합니다.\n",
      "https://cafe.naver.com/ArticleRead.nhn?clubid=10050146&page=1&inCafeSearch=true&searchBy=1&query=%B8%C6%BA%CF%C7%C1%B7%CE&includeAll=&exclude=&include=&exact=&searchdate=all&media=0&sortBy=date&articleid=540570757&referrerAllArticles=true\n",
      "맥북프로 상태S급 매직마우스 USB허브 다 가져가세요\n",
      "https://cafe.naver.com/ArticleRead.nhn?clubid=10050146&page=1&inCafeSearch=true&searchBy=1&query=%B8%C6%BA%CF%C7%C1%B7%CE&includeAll=&exclude=&include=&exact=&searchdate=all&media=0&sortBy=date&articleid=540570051&referrerAllArticles=true\n",
      "2017 맥북프로 논터치바 판매합니다 (MPXU2KH/A)\n",
      "https://cafe.naver.com/ArticleRead.nhn?clubid=10050146&page=1&inCafeSearch=true&searchBy=1&query=%B8%C6%BA%CF%C7%C1%B7%CE&includeAll=&exclude=&include=&exact=&searchdate=all&media=0&sortBy=date&articleid=540568581&referrerAllArticles=true\n",
      "[공식앱] 맥북 프로 2017 13인치(CTO)터치바 스페이스그레이 급하게 팝니다.\n",
      "https://cafe.naver.com/ArticleRead.nhn?clubid=10050146&page=1&inCafeSearch=true&searchBy=1&query=%B8%C6%BA%CF%C7%C1%B7%CE&includeAll=&exclude=&include=&exact=&searchdate=all&media=0&sortBy=date&articleid=540568350&referrerAllArticles=true\n",
      "[음악작업 가성비모델]2011 Late 맥북프로 15인치 풀업글 판매합니다. (83만원)\n",
      "https://cafe.naver.com/ArticleRead.nhn?clubid=10050146&page=1&inCafeSearch=true&searchBy=1&query=%B8%C6%BA%CF%C7%C1%B7%CE&includeAll=&exclude=&include=&exact=&searchdate=all&media=0&sortBy=date&articleid=540566155&referrerAllArticles=true\n",
      "맥북프로레티나2015초13인치 중급형\n",
      "https://cafe.naver.com/ArticleRead.nhn?clubid=10050146&page=1&inCafeSearch=true&searchBy=1&query=%B8%C6%BA%CF%C7%C1%B7%CE&includeAll=&exclude=&include=&exact=&searchdate=all&media=0&sortBy=date&articleid=540564724&referrerAllArticles=true\n",
      "2014년식 15인치 맥북 프로 레티나 기본형 팝니다.(상판교체 미사용)\n",
      "https://cafe.naver.com/ArticleRead.nhn?clubid=10050146&page=1&inCafeSearch=true&searchBy=1&query=%B8%C6%BA%CF%C7%C1%B7%CE&includeAll=&exclude=&include=&exact=&searchdate=all&media=0&sortBy=date&articleid=540564259&referrerAllArticles=true\n",
      "[공식앱] 맥북프로레티나2015초 13인치 중급형\n",
      "https://cafe.naver.com/ArticleRead.nhn?clubid=10050146&page=1&inCafeSearch=true&searchBy=1&query=%B8%C6%BA%CF%C7%C1%B7%CE&includeAll=&exclude=&include=&exact=&searchdate=all&media=0&sortBy=date&articleid=540563792&referrerAllArticles=true\n",
      "mc700kh/a 맥북프로 ssd256gb 업글 쿨매매 32만원\n",
      "https://cafe.naver.com/ArticleRead.nhn?clubid=10050146&page=1&inCafeSearch=true&searchBy=1&query=%B8%C6%BA%CF%C7%C1%B7%CE&includeAll=&exclude=&include=&exact=&searchdate=all&media=0&sortBy=date&articleid=540563120&referrerAllArticles=true\n",
      "[공식앱] 맥북 프로 2017 13인치(CTO)터치바 스페이스그레이 급하게 팝니다.\n",
      "https://cafe.naver.com/ArticleRead.nhn?clubid=10050146&page=1&inCafeSearch=true&searchBy=1&query=%B8%C6%BA%CF%C7%C1%B7%CE&includeAll=&exclude=&include=&exact=&searchdate=all&media=0&sortBy=date&articleid=540560685&referrerAllArticles=true\n",
      "2016년형 맥북프로 논터치바(256SSD) 판매합니다. 지역:부산\n",
      "https://cafe.naver.com/ArticleRead.nhn?clubid=10050146&page=1&inCafeSearch=true&searchBy=1&query=%B8%C6%BA%CF%C7%C1%B7%CE&includeAll=&exclude=&include=&exact=&searchdate=all&media=0&sortBy=date&articleid=540558102&referrerAllArticles=true\n",
      "(미개봉) 맥북프로 15인치 레티나 2018 (mr942kha) 판매합니다\n",
      "https://cafe.naver.com/ArticleRead.nhn?clubid=10050146&page=1&inCafeSearch=true&searchBy=1&query=%B8%C6%BA%CF%C7%C1%B7%CE&includeAll=&exclude=&include=&exact=&searchdate=all&media=0&sortBy=date&articleid=540556936&referrerAllArticles=true\n",
      "2016 맥북프로 스그 15인치 고급형 팝니다.\n",
      "https://cafe.naver.com/ArticleRead.nhn?clubid=10050146&page=1&inCafeSearch=true&searchBy=1&query=%B8%C6%BA%CF%C7%C1%B7%CE&includeAll=&exclude=&include=&exact=&searchdate=all&media=0&sortBy=date&articleid=540556859&referrerAllArticles=true\n",
      "맥북프로레티나 2015 256기가 팝니다(박스풀, 젯드라이브\n",
      "https://cafe.naver.com/ArticleRead.nhn?clubid=10050146&page=1&inCafeSearch=true&searchBy=1&query=%B8%C6%BA%CF%C7%C1%B7%CE&includeAll=&exclude=&include=&exact=&searchdate=all&media=0&sortBy=date&articleid=540556643&referrerAllArticles=true\n",
      "2013년 맥북프로 레티나 15인치 Late ME293KH/A CTO v판매합니다\n",
      "https://cafe.naver.com/ArticleRead.nhn?clubid=10050146&page=1&inCafeSearch=true&searchBy=1&query=%B8%C6%BA%CF%C7%C1%B7%CE&includeAll=&exclude=&include=&exact=&searchdate=all&media=0&sortBy=date&articleid=540548389&referrerAllArticles=true\n"
     ]
    }
   ],
   "source": [
    "# 게시판 리스트 전체에 대해 게시물 텍스트와 링크 가져와 프린트하기\n",
    "for item in title_link:\n",
    "    title = item.text\n",
    "    link = item.get_attribute('href')\n",
    "    print(title, link, sep='\\n')"
   ]
  },
  {
   "cell_type": "markdown",
   "metadata": {},
   "source": [
    "## 숙제\n",
    "- www.seoul.go.kr 에 접속하여 새소식 게시판에서\n",
    "- 10페이지까지 이동하며 결과물 스크래핑하기"
   ]
  },
  {
   "cell_type": "code",
   "execution_count": null,
   "metadata": {},
   "outputs": [],
   "source": []
  }
 ],
 "metadata": {
  "kernelspec": {
   "display_name": "Python 3",
   "language": "python",
   "name": "python3"
  },
  "language_info": {
   "codemirror_mode": {
    "name": "ipython",
    "version": 3
   },
   "file_extension": ".py",
   "mimetype": "text/x-python",
   "name": "python",
   "nbconvert_exporter": "python",
   "pygments_lexer": "ipython3",
   "version": "3.6.4"
  }
 },
 "nbformat": 4,
 "nbformat_minor": 2
}
