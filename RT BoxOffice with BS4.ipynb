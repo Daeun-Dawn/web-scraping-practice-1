{
 "cells": [
  {
   "cell_type": "code",
   "execution_count": 4,
   "metadata": {},
   "outputs": [],
   "source": [
    "import requests\n",
    "from bs4 import BeautifulSoup\n",
    "import lxml"
   ]
  },
  {
   "cell_type": "code",
   "execution_count": 11,
   "metadata": {},
   "outputs": [
    {
     "data": {
      "text/plain": [
       "'<!DOCTYPE html>\\n<html lang=\"en\"\\n      dit=\"ltr\"\\n      xmlns:fb=\"http://www.facebook.com/2008/fbml\"\\n      xmlns:og=\"http://opengraphprotocol.org/schema/\">\\n\\n    <head prefix=\"og: http://ogp.me/ns# flixstertomatoes: http://ogp.me/ns/apps/flixstertomatoes#\">\\n\\n        <!-- salt=lay-def-02-juRm -->\\n      '"
      ]
     },
     "execution_count": 11,
     "metadata": {},
     "output_type": "execute_result"
    }
   ],
   "source": [
    "# get RT's html text with requests.get()\n",
    "url = \"https://www.rottentomatoes.com\"\n",
    "\n",
    "html = requests.get(url).text\n",
    "html[:300]"
   ]
  },
  {
   "cell_type": "code",
   "execution_count": 12,
   "metadata": {},
   "outputs": [],
   "source": [
    "# BeautifulSoup Start\n",
    "# find Top Box Office\n",
    "soup = BeautifulSoup(html, 'lxml')\n",
    "table = soup.find('table', attrs={'id':'Top-Box-Office'})"
   ]
  },
  {
   "cell_type": "code",
   "execution_count": 15,
   "metadata": {},
   "outputs": [
    {
     "data": {
      "text/plain": [
       "10"
      ]
     },
     "execution_count": 15,
     "metadata": {},
     "output_type": "execute_result"
    }
   ],
   "source": [
    "# find all tr to slice with rank\n",
    "all_tr = table.find_all('tr')\n",
    "len(all_tr)"
   ]
  },
  {
   "cell_type": "code",
   "execution_count": 16,
   "metadata": {},
   "outputs": [
    {
     "data": {
      "text/plain": [
       "<tr class=\"sidebarInTheaterOpening\">\n",
       "<td class=\"left_col\">\n",
       "<a href=\"/m/ralph_breaks_the_internet\">\n",
       "<span class=\"icon tiny certified_fresh\"></span>\n",
       "<span class=\"tMeterScore\">88%</span>\n",
       "</a>\n",
       "</td>\n",
       "<td class=\"middle_col\">\n",
       "<a href=\"/m/ralph_breaks_the_internet\">Ralph Breaks the Internet</a>\n",
       "</td>\n",
       "<td class=\"right_col right\">\n",
       "<a href=\"/m/ralph_breaks_the_internet\">$16.4M</a>\n",
       "</td>\n",
       "</tr>"
      ]
     },
     "execution_count": 16,
     "metadata": {},
     "output_type": "execute_result"
    }
   ],
   "source": [
    "# with all_tr[0]\n",
    "all_tr[0]"
   ]
  },
  {
   "cell_type": "code",
   "execution_count": 19,
   "metadata": {},
   "outputs": [
    {
     "name": "stdout",
     "output_type": "stream",
     "text": [
      "88 Ralph Breaks the Internet https://www.rottentomatoes.com/m/ralph_breaks_the_internet 16.4\n"
     ]
    }
   ],
   "source": [
    "# find out score, title, link, revenue\n",
    "score = int(all_tr[0].find('span', attrs={'class':'tMeterScore'}).text.replace('%',''))\n",
    "title_and_link = all_tr[0].find('td', attrs={'class':'middle_col'}).a\n",
    "title = title_and_link.text\n",
    "link = url + title_and_link['href']\n",
    "revenue = float(all_tr[0].find('td', attrs={'class':'right'}).a.text.strip('$M'))\n",
    "print(score, title, link, revenue)"
   ]
  },
  {
   "cell_type": "code",
   "execution_count": 28,
   "metadata": {},
   "outputs": [],
   "source": [
    "# do this for all elements in all_tr(replace all_tr[0] -> tr)\n",
    "box_office = []\n",
    "box_dict = {}\n",
    "for tr,i in zip(all_tr, range(1,10+1)):\n",
    "    score = int(tr.find('span', attrs={'class':'tMeterScore'}).text.replace('%',''))\n",
    "    title_and_link = tr.find('td', attrs={'class':'middle_col'}).a\n",
    "    title = title_and_link.text\n",
    "    link = url + title_and_link['href']\n",
    "    revenue = float(tr.find('td', attrs={'class':'right'}).a.text.strip('$M'))\n",
    "    box_office.append((score, title, link, revenue))\n",
    "    box_dict[str(i)] = dict([\n",
    "        (name, eval(name)) for name in [\"score\",\"title\",\"link\",\"revenue\"]\n",
    "    ])"
   ]
  },
  {
   "cell_type": "code",
   "execution_count": 29,
   "metadata": {},
   "outputs": [
    {
     "data": {
      "text/plain": [
       "[(88,\n",
       "  'Ralph Breaks the Internet',\n",
       "  'https://www.rottentomatoes.com/m/ralph_breaks_the_internet',\n",
       "  16.4),\n",
       " (57, 'The Grinch', 'https://www.rottentomatoes.com/m/the_grinch', 15.1),\n",
       " (83, 'Creed II', 'https://www.rottentomatoes.com/m/creed_ii', 10.1),\n",
       " (38,\n",
       "  'Fantastic Beasts: The Crimes of Grindelwald',\n",
       "  'https://www.rottentomatoes.com/m/fantastic_beasts_the_crimes_of_grindelwald',\n",
       "  7.0),\n",
       " (62,\n",
       "  'Bohemian Rhapsody',\n",
       "  'https://www.rottentomatoes.com/m/bohemian_rhapsody',\n",
       "  6.2),\n",
       " (81,\n",
       "  'Instant Family',\n",
       "  'https://www.rottentomatoes.com/m/instant_family',\n",
       "  5.8),\n",
       " (82, 'Green Book', 'https://www.rottentomatoes.com/m/green_book', 4.0),\n",
       " (16, 'Robin Hood', 'https://www.rottentomatoes.com/m/robin_hood_2018', 3.5),\n",
       " (14,\n",
       "  'The Possession of Hannah Grace',\n",
       "  'https://www.rottentomatoes.com/m/the_possession_of_hannah_grace',\n",
       "  3.3),\n",
       " (91, 'Widows', 'https://www.rottentomatoes.com/m/widows_2018', 3.1)]"
      ]
     },
     "execution_count": 29,
     "metadata": {},
     "output_type": "execute_result"
    }
   ],
   "source": [
    "box_office"
   ]
  },
  {
   "cell_type": "code",
   "execution_count": 30,
   "metadata": {},
   "outputs": [
    {
     "data": {
      "text/plain": [
       "{'1': {'score': 88,\n",
       "  'title': 'Ralph Breaks the Internet',\n",
       "  'link': 'https://www.rottentomatoes.com/m/ralph_breaks_the_internet',\n",
       "  'revenue': 16.4},\n",
       " '2': {'score': 57,\n",
       "  'title': 'The Grinch',\n",
       "  'link': 'https://www.rottentomatoes.com/m/the_grinch',\n",
       "  'revenue': 15.1},\n",
       " '3': {'score': 83,\n",
       "  'title': 'Creed II',\n",
       "  'link': 'https://www.rottentomatoes.com/m/creed_ii',\n",
       "  'revenue': 10.1},\n",
       " '4': {'score': 38,\n",
       "  'title': 'Fantastic Beasts: The Crimes of Grindelwald',\n",
       "  'link': 'https://www.rottentomatoes.com/m/fantastic_beasts_the_crimes_of_grindelwald',\n",
       "  'revenue': 7.0},\n",
       " '5': {'score': 62,\n",
       "  'title': 'Bohemian Rhapsody',\n",
       "  'link': 'https://www.rottentomatoes.com/m/bohemian_rhapsody',\n",
       "  'revenue': 6.2},\n",
       " '6': {'score': 81,\n",
       "  'title': 'Instant Family',\n",
       "  'link': 'https://www.rottentomatoes.com/m/instant_family',\n",
       "  'revenue': 5.8},\n",
       " '7': {'score': 82,\n",
       "  'title': 'Green Book',\n",
       "  'link': 'https://www.rottentomatoes.com/m/green_book',\n",
       "  'revenue': 4.0},\n",
       " '8': {'score': 16,\n",
       "  'title': 'Robin Hood',\n",
       "  'link': 'https://www.rottentomatoes.com/m/robin_hood_2018',\n",
       "  'revenue': 3.5},\n",
       " '9': {'score': 14,\n",
       "  'title': 'The Possession of Hannah Grace',\n",
       "  'link': 'https://www.rottentomatoes.com/m/the_possession_of_hannah_grace',\n",
       "  'revenue': 3.3},\n",
       " '10': {'score': 91,\n",
       "  'title': 'Widows',\n",
       "  'link': 'https://www.rottentomatoes.com/m/widows_2018',\n",
       "  'revenue': 3.1}}"
      ]
     },
     "execution_count": 30,
     "metadata": {},
     "output_type": "execute_result"
    }
   ],
   "source": [
    "box_dict"
   ]
  },
  {
   "cell_type": "code",
   "execution_count": null,
   "metadata": {},
   "outputs": [],
   "source": []
  }
 ],
 "metadata": {
  "kernelspec": {
   "display_name": "Python 3",
   "language": "python",
   "name": "python3"
  },
  "language_info": {
   "codemirror_mode": {
    "name": "ipython",
    "version": 3
   },
   "file_extension": ".py",
   "mimetype": "text/x-python",
   "name": "python",
   "nbconvert_exporter": "python",
   "pygments_lexer": "ipython3",
   "version": "3.6.4"
  }
 },
 "nbformat": 4,
 "nbformat_minor": 2
}
