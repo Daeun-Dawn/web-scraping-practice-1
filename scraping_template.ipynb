{
 "cells": [
  {
   "cell_type": "markdown",
   "metadata": {},
   "source": [
    "# [Title]\n",
    "\n",
    "## 주제: []\n",
    "\n",
    "### 동기:\n",
    "\n",
    "### 사용한 라이브러리\n",
    "- beautifulsoup4\n",
    "- requests\n",
    "- ..\n",
    "\n",
    "(더블클릭하시면 수정 가능합니다.)"
   ]
  },
  {
   "cell_type": "code",
   "execution_count": null,
   "metadata": {},
   "outputs": [],
   "source": [
    "# Code Start"
   ]
  },
  {
   "cell_type": "code",
   "execution_count": null,
   "metadata": {},
   "outputs": [],
   "source": [
    "# Output"
   ]
  },
  {
   "cell_type": "markdown",
   "metadata": {},
   "source": [
    "## 느낀 점\n",
    "\n",
    "### 어려웠던 점\n",
    "1. Lorem Ipsum\n",
    "2. Lorem Ipsum\n",
    "3. Lorem Ipsum\n",
    "\n",
    "### 보완할 부분\n",
    "\n",
    "### 소감\n",
    "\n",
    "(더블클릭하시면 수정 가능합니다.)"
   ]
  },
  {
   "cell_type": "code",
   "execution_count": null,
   "metadata": {},
   "outputs": [],
   "source": []
  }
 ],
 "metadata": {
  "kernelspec": {
   "display_name": "Python 3",
   "language": "python",
   "name": "python3"
  },
  "language_info": {
   "codemirror_mode": {
    "name": "ipython",
    "version": 3
   },
   "file_extension": ".py",
   "mimetype": "text/x-python",
   "name": "python",
   "nbconvert_exporter": "python",
   "pygments_lexer": "ipython3",
   "version": "3.6.4"
  }
 },
 "nbformat": 4,
 "nbformat_minor": 2
}
